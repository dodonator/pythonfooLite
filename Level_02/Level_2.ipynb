{
 "cells": [
  {
   "cell_type": "markdown",
   "metadata": {
    "slideshow": {
     "slide_type": "-"
    }
   },
   "source": [
    "# Level 2"
   ]
  },
  {
   "cell_type": "markdown",
   "metadata": {
    "slideshow": {
     "slide_type": "-"
    }
   },
   "source": [
    "## Einstieg\n",
    "\n",
    "In diesem Level lernst du mit dem `boolean` einen neuen Datentypen kennen. Ebenso lernst du zwei neue Kontrollstrukturen kennen: die `if`-Bedingung und die `while`-Schleife.\n",
    "Diese Kontrollstrukturen ermöglichen es dir nach Abschluss dieses Levels komplexere Algorithmen zu implementieren und anspruchsvollere Python-Skripte zu schreiben."
   ]
  },
  {
   "cell_type": "code",
   "execution_count": null,
   "metadata": {
    "slideshow": {
     "slide_type": "slide"
    }
   },
   "outputs": [],
   "source": [
    "eingabe = input(\"Bitte eine Zahl eingeben: \")\n",
    "zahl = int(eingabe)\n",
    "print(zahl)"
   ]
  },
  {
   "cell_type": "markdown",
   "metadata": {
    "slideshow": {
     "slide_type": "-"
    }
   },
   "source": [
    "Zum Einstieg betrachte den obigen Code-Ausschnitt. Es soll eine Zahl vom Benutzer eingegeben werden. In Level 1 hast du gelernt, dass die `input()`-Funktion stets einen string zurückliefert. Daher wird im obigen Beispiel die Eingabe mittels der `int()`-Funktion in einen integer umgewandelt. Probleme treten auf, wenn der Benutzer keine gültige Zahl eingibt. Die Verarbeitung einer fehlerhaften Eingabe ist durch eine `if`-Bedingung möglich. Doch zuerst solltest du einmal verstehen was ein `boolean` ist."
   ]
  },
  {
   "cell_type": "markdown",
   "metadata": {
    "slideshow": {
     "slide_type": "-"
    }
   },
   "source": [
    "## Der Typ boolean\n",
    "\n",
    "Ein __boolean__ ist ein Datentyp, der einen Wahrheitswert enthält. Valide Werte für einen boolean sind die Literale `True` und `False`.\n",
    "Wie die Werte anderer Datentypen kannst du diese beiden Werte in einer Variablen speichern.\n",
    "\n",
    "```python\n",
    "wahr = True\n",
    "falsch = False\n",
    "```\n",
    "\n",
    "Ebenso wie für die Datentypen, die du bisher kennengelernt hast, gibt es auch für den boolean eine Funktion, welche einen beliebigen Ausdruck in einen boolean-Wert umwandelt. In diesem Fall die `bool()` Funktion. Im folgendem siehst du ein paar Beispiele für Umwandlungen dir bekannter Datentypen."
   ]
  },
  {
   "cell_type": "code",
   "execution_count": null,
   "metadata": {},
   "outputs": [],
   "source": [
    "# True\n",
    "print(f'bool(23): {bool(23)}')\n",
    "print(f'bool(4.2): {bool(4.2)}')\n",
    "print(f'bool(\"pythonfoo\"): {bool(\"pythonfoo\")}')\n",
    "\n",
    "# False\n",
    "print(f'bool(0): {bool(0)}')\n",
    "print(f'bool(0.0): {bool(0.0)}')\n",
    "print(f'bool(\"\"): {bool(\"\")}')"
   ]
  },
  {
   "cell_type": "markdown",
   "metadata": {
    "slideshow": {
     "slide_type": "-"
    }
   },
   "source": [
    "Ob ein Wert umgewandelt in einen boolean `True` oder `False` zurückgibt, hängt dabei vom Typen des Wertes ab.  \n",
    "Für die Datentypen, die du bisher kennengelernt hast, kannst du dir merken:\n",
    "\n",
    "1. Ein integer ist `True`, solange er nicht `0` ist\n",
    "2. Ein float ist `True`, solange er nicht `0.0` ist\n",
    "3. Ein string ist `True`, solange er nicht leer, d.h. `''` ist"
   ]
  },
  {
   "cell_type": "code",
   "execution_count": null,
   "metadata": {},
   "outputs": [],
   "source": [
    "print(bool(\"\"))\n",
    "print(bool(0))\n",
    "print(bool(0.0))"
   ]
  },
  {
   "cell_type": "markdown",
   "metadata": {
    "slideshow": {
     "slide_type": "-"
    }
   },
   "source": [
    "Ein Anwendungsfall von boolean-Werten, der dir sehr häufig begegnen wird, sind Vergleichsoperatoren. Du kennst sicherlich Vergleiche wie \"größer als\" oder \"kleiner gleich\" aus der Mathematik. Diese kannst du ebenfalls in Python benutzen. Im folgenden siehst eine Auflistung der Vergleichsoperatoren und jeweils ein wahres und ein falsches Beispiel.\n",
    "\n",
    "1. Äquivalenz: `==` prüft ob zwei Ausdrücke denselben Wert haben.\n",
    "   ```python\n",
    "   23 == 15 + 8  # True\n",
    "   23 == 27  # False\n",
    "   ```\n",
    "2. Nicht-Äquivalenz: `!=` prüft ob zwei Ausdrücke einen unterschiedlichen Wert haben.\n",
    "   ```python\n",
    "   23 != 42  # True\n",
    "   23 != 23  # False\n",
    "   ```\n",
    "3. Größer: `>` prüft ob der erste Ausdruck echt größer als der zweite Ausdruck ist.\n",
    "   ```python\n",
    "   23 > 2.3  # True\n",
    "   23 > 24  # False\n",
    "   ```\n",
    "4. Kleiner: `<` prüft ob der erste Ausdruck echt größer als der zweite Ausdruck ist.\n",
    "   ```python\n",
    "   23 < 42  # True\n",
    "   23 < 2.7  # False\n",
    "   ```\n",
    "5. Größer gleich: `>=` prüft ob der erste Ausdruck größer oder gleich dem zweiten Ausdruck ist.\n",
    "   ```python\n",
    "   23 >= 23  # True\n",
    "   23 >= 24  # False\n",
    "   ```\n",
    "6. Kleiner gleich: `<=` prüft ob der erste Ausdruck kleiner oder gleich dem zweiten Ausdruck ist.\n",
    "   ```python\n",
    "   23 >= 42  # True\n",
    "   23 >= 42  # False\n",
    "   ```\n",
    "7. Gleichheit: `is` ist ein Schlüsselwort und prüft ob zwei Ausdrücke gleich sind.\n",
    "   ```python\n",
    "   23 is 23  # True\n",
    "   23 is 23.0  # False\n",
    "   ```\n",
    "   Das Schlüsselwort `is` findet bei primitiven, unveränderlichen Datentypen kaum Anwendung, da es sich bei diesen nicht vom Äquivalenzoperator `==` unterscheidet."
   ]
  },
  {
   "cell_type": "markdown",
   "metadata": {
    "slideshow": {
     "slide_type": "-"
    }
   },
   "source": [
    "Genauso wie integer und floats gibt es auch für booleans Operatoren:\n",
    "\n",
    "1. `and` das logische \"und\"\n",
    "2. `or` das logische \"oder\"\n",
    "3. `not` die logische Negation\n",
    "\n",
    "Außerdem lässt sich auch xor (`^`) auf booleans anwenden.  \n",
    "Die Operatoren `and` und `or` lassen sich nicht nur auf booleans anwenden. Bei Anwendung mit anderen Datentypen weisen sie eien erweiterte Funktion auf."
   ]
  },
  {
   "cell_type": "code",
   "execution_count": 2,
   "metadata": {
    "scrolled": false,
    "slideshow": {
     "slide_type": "-"
    }
   },
   "outputs": [
    {
     "name": "stdout",
     "output_type": "stream",
     "text": [
      "not True: False\n",
      "True or False: True\n",
      "True and False: False\n",
      "True ^ False: True\n"
     ]
    }
   ],
   "source": [
    "print(\"not True:\", not True)\n",
    "print(\"True or False:\", True or False)\n",
    "print(\"True and False:\", True and False)\n",
    "print(\"True ^ False:\", True ^ False)"
   ]
  },
  {
   "cell_type": "markdown",
   "metadata": {},
   "source": [
    "## if-Bedingung\n",
    "\n",
    "Nun da wir gelernt haben, was boolean-Werte sind, können wir diese in einer if-Abfrage benutzen: Codeteile nur dann ausführen, wenn eine Bedingung erfüllt ist. Sehen wir uns zunächst die Syntax einer if-Abfrage in Python an:\n",
    "\n",
    "```python\n",
    "if Bedingung:\n",
    "    Befehle\n",
    "```\n",
    "\n",
    "Wir starten mit dem Schlüsselwort `if`, dann kommt eine Bedingung, diese sollte einen boolschen Ausdruck zurückgeben, wir können diesen explizit angeben, der Interpreter ruft allerdings auf unsere Bedingung `bool()` auf und führt unsere Befehle aus, wenn dies `True`zurück gibt. Nach der Bedingung folgt ein Doppelpunkt `:`. Die nächste Zeile wird nun eingerückt, hierbei hat man sich auf __vier Leerzeichen__ geeinigt."
   ]
  },
  {
   "cell_type": "code",
   "execution_count": null,
   "metadata": {
    "scrolled": false
   },
   "outputs": [],
   "source": [
    "eingabe = input(\"Bitte etwas eingeben: \")\n",
    "if eingabe:  # alternativ: bool(eingabe) oder eingabe != \"\"\n",
    "    print(eingabe)"
   ]
  },
  {
   "cell_type": "markdown",
   "metadata": {},
   "source": [
    "Im obigen Codebeispiel prüft die if-Bedingung, ob der String `eingabe` leer ist. Dies geschieht implizit, d.h. es wird ausgenutzt, dass der Interpreter die Bedingung in einen boolean umwandelt. In dem Kommentar sind alternative Bedingungen beschrieben, die daselbe erreichen, allerdings umständlicher sind. <br>\n",
    "Wenn wir uns aber an unser Problem aus der Einleitung erinnern, war unser Ziel eine Zahl aus der Eingabe zu lesen und Fehler durch falsche Benutzereingaben abzufangen. Wir wollen also darauf reagieren, wenn nichts eingegeben wurde, wenn eine Zahl eingegeben wurde und wenn eine Zeichenkette eingegeben wurde, die nicht als integer interpretiert werden kann."
   ]
  },
  {
   "cell_type": "code",
   "execution_count": null,
   "metadata": {
    "scrolled": false
   },
   "outputs": [],
   "source": [
    "eingabe = input(\"Bitte etwas eingeben: \")\n",
    "\n",
    "if eingabe.isdigit():\n",
    "    zahl = int(eingabe)\n",
    "    print(zahl)\n",
    "\n",
    "else:\n",
    "    print(\"Ungültige Eingabe:\", eingabe)"
   ]
  },
  {
   "cell_type": "markdown",
   "metadata": {},
   "source": [
    "Wie wir sehen können, passiert im obigen Codebeispiel eine Menge auf einmal, gehen wir es also in Ruhe durch.\n",
    "In der if-Abfrage wird mit der `str.isdigit()` Methode geprüft, ob der string `eingabe` nicht leer ist und nur aus Ziffern besteht; wenn dem so ist, erstellen wir einen integer `zahl` aus der Eingabe und geben diesen aus. In einem `else` Zweig, der ausgeführt wird, wenn die Bedingung der if-Abfrage nicht zutraf, geben wir dem Benutzer Feedback über seine falsche Eingabe zurück."
   ]
  },
  {
   "cell_type": "code",
   "execution_count": null,
   "metadata": {},
   "outputs": [],
   "source": [
    "eingabe = input(\"Bitte eine Zahl eingeben: \")\n",
    "\n",
    "if eingabe:\n",
    "    # die Eingabe ist nicht leer.\n",
    "    if eingabe.isdigit():\n",
    "        zahl = int(eingabe)\n",
    "        print(zahl, \"ist eine gültige Zahl.\")\n",
    "    else:\n",
    "        print(\"Die Eingabe ''\" + eingabe + \"' ist keine gültige Zahl\")\n",
    "else:\n",
    "    print(\"Die Eingabe ist leer.\")"
   ]
  },
  {
   "cell_type": "markdown",
   "metadata": {},
   "source": [
    "if-Bedingungen können auch verschachtelt werden, d.h. wir können also in einer if-Bedingung eine weitere if-Bedingung definieren. Allerdings können wir dies durch die Benutzung des Schlüsselwortes `elif` vereinfachen:"
   ]
  },
  {
   "cell_type": "code",
   "execution_count": null,
   "metadata": {},
   "outputs": [],
   "source": [
    "eingabe = input(\"Bitte eine Zahl eingeben: \")\n",
    "\n",
    "if eingabe.isdigit():\n",
    "    # die Eingabe ist eine gültige Zahl\n",
    "    zahl = int(eingabe)\n",
    "    print(zahl, \"ist eine gültige Zahl.\")\n",
    "    \n",
    "elif not eingabe:\n",
    "    # die Eingabe ist leer\n",
    "    print(\"Die Eingabe ist leer\")\n",
    "    \n",
    "else:\n",
    "    # die Eingabe ist nicht leer, aber auch keine\n",
    "    # gültige Zahl\n",
    "    print(\"Die Eingabe '\" + eingabe + \"' ist keine gültige Zahl\")"
   ]
  },
  {
   "cell_type": "markdown",
   "metadata": {},
   "source": [
    "Eine if-Bedingung enthält einen if-Zweig, beliebig viele optionale elif-Zweige und optional einen else-Zweig. Dabei wird immer der erste Zweig, dessen Bedingung zutrifft ausgeführt und nachher keine weiteren.\n",
    "Daher ist es wichtig auf die Reihenfolge der Zweige zu achten."
   ]
  },
  {
   "cell_type": "markdown",
   "metadata": {},
   "source": [
    "## while-Schleife\n",
    "Bisher ist es sehr schwierig Code mehrfach auszuführen, wenn wir unsere Programme wiederholen müssen wir sie neu starten. Nicht nur das, sondern haben wir keine Möglichkeit Befehle beliebig häufig auszuführen. Die Möglichkeit Code wiederholt auszuführen ist allerdings für viele Programme ein elementarer Bestandteil. Daher möchten wir uns im dritten Abschnitt dieses Levels mit der while-Schleife beschäftigen, die diese Probleme löst.\n",
    "\n",
    "Die while-Schleife ist im Aufbau ähnlich der if-Bedingung:\n",
    "```python\n",
    "while Bedingung:\n",
    "    Befehle\n",
    "```\n",
    "Der Unterschied ist, dass unsere Befehle, solange wiederholt werden, wie die Bedingung gültig (d.h. == True) ist. Hierbei ist Vorsicht geboten, da es zu Endlosschleifen kommen kann."
   ]
  },
  {
   "cell_type": "code",
   "execution_count": null,
   "metadata": {},
   "outputs": [],
   "source": [
    "counter = 0\n",
    "while counter < 10:\n",
    "    print(counter)\n",
    "    counter += 1"
   ]
  },
  {
   "cell_type": "markdown",
   "metadata": {},
   "source": [
    "Im obigen Codeblock sehen wir eine einfache Anwendung der while-Schleife. Kommentieren wir jedoch die letzte Zeile aus, kommt es zu einer Endlosschleife. In diesem Zusammenhang der Hinweis, dass sich im Interpreter Python Programme durch drücken von Strg + C abbrechen lassen.\n",
    "\n",
    "Innerhalb einer while-Schleife ist es möglich mit dem Schlüsselwort `break` den Durchlauf der Schleife abzubrechen oder mit dem Schlüsselwort `continue` den aktuellen Durchlauf zu überspringen. Bei der Benutzung von `continue`müssen wir wieder darauf achten keine Endlosschleifen zu erstellen."
   ]
  },
  {
   "cell_type": "code",
   "execution_count": null,
   "metadata": {},
   "outputs": [],
   "source": [
    "print(\"Start.\")\n",
    "while True:\n",
    "    eingabe = input(\"Bitte etwas eingeben: \")\n",
    "    if not eingabe:\n",
    "        break\n",
    "    elif eingabe == \"Q\":\n",
    "        break\n",
    "    elif eingabe == \"C\":\n",
    "        continue\n",
    "    else:\n",
    "        print(eingabe)\n",
    "        print(len(eingabe)*\"-\")\n",
    "    \n",
    "print(\"Fertig.\")"
   ]
  },
  {
   "cell_type": "markdown",
   "metadata": {},
   "source": [
    "Das Schlüsselwort `else` kann nicht nur in einer if-Bedingung, sonder auch in Verbindung mit einer while-Schleife benutzt werden. Dabei wird der else-Zweig ans Ende der entsprechenden while-Schleife angefügt. Der Code des else-Zweiges wird dann nur ausgeführt, wenn die Schleife __nicht__ durch ein `break` abgebrochen wurde."
   ]
  },
  {
   "cell_type": "code",
   "execution_count": null,
   "metadata": {},
   "outputs": [],
   "source": [
    "# Zahlen raten\n",
    "gesucht = 56\n",
    "versuche = 10\n",
    "zähler = 0\n",
    "print(\"Die gesuchte Zahl x ist 0 < x < 100.\")\n",
    "\n",
    "while zähler < versuche:\n",
    "    eingabe = input(\": \")\n",
    "    zähler += 1\n",
    "    # eingabe überprüfen\n",
    "    if eingabe.isdigit():\n",
    "        zahl = int(eingabe)\n",
    "    else:\n",
    "        print(\"Ungültige Eingabe.\")\n",
    "        continue\n",
    "    \n",
    "    # Benutzer Feedback\n",
    "    if zahl == gesucht:\n",
    "        print(\"Richtig!\")\n",
    "        break\n",
    "    else:\n",
    "        if zahl > gesucht:\n",
    "            print(\"Kleiner.\")\n",
    "        else:\n",
    "            print(\"Größer\")\n",
    "        print(\"Noch\", versuche-zähler, \"Versuche.\")\n",
    "    \n",
    "\n",
    "else:\n",
    "    # kein break <=> zahl wurde nicht erraten\n",
    "    print(\"Die Zahl wurde nicht erraten.\")\n",
    "    print(\"Die richtige Zahl war:\", gesucht)\n"
   ]
  },
  {
   "cell_type": "markdown",
   "metadata": {},
   "source": [
    "## Rückblick\n",
    "Vor diesem Level konnten wir nur sehr begrenzte Programme schreiben. Wir konnten Eingaben entgegennehmen, mit dieser Eingabe Berechnungen (im weitesten Sinne) durchführen und die Ergebnisse dieser Berechnungen wieder ausgeben. Dieses Level hat nun die if-Bedingung und die while-Schleife eingeführt. Diese beiden Kontrollstrukturen ermöglichen uns das Schreiben komplexer Programme und die Implementation anspruchsvoller Algorithmen. die if-Bedingung sorgt dafür, dass unsere Programme nun auf Eingaben zu reagieren und Fehler abzufangen. Die while-Schleife ermöglicht es uns Befehle beliebig häufig auszuführen. Damit sind schon im zweiten Level wichtige Bausteine für komplexe Programme eingeführt worden."
   ]
  }
 ],
 "metadata": {
  "celltoolbar": "Raw Cell Format",
  "kernelspec": {
   "display_name": "Python 3.10.6 64-bit",
   "language": "python",
   "name": "python3"
  },
  "language_info": {
   "codemirror_mode": {
    "name": "ipython",
    "version": 3
   },
   "file_extension": ".py",
   "mimetype": "text/x-python",
   "name": "python",
   "nbconvert_exporter": "python",
   "pygments_lexer": "ipython3",
   "version": "3.10.6"
  },
  "vscode": {
   "interpreter": {
    "hash": "916dbcbb3f70747c44a77c7bcd40155683ae19c65e1c03b4aa3499c5328201f1"
   }
  }
 },
 "nbformat": 4,
 "nbformat_minor": 2
}
